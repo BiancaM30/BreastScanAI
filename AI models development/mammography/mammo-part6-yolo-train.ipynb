{
 "cells": [
  {
   "cell_type": "code",
   "execution_count": 1,
   "id": "e12240c5",
   "metadata": {
    "execution": {
     "iopub.execute_input": "2023-04-04T16:45:25.731846Z",
     "iopub.status.busy": "2023-04-04T16:45:25.731379Z",
     "iopub.status.idle": "2023-04-04T16:45:46.010725Z",
     "shell.execute_reply": "2023-04-04T16:45:46.009496Z"
    },
    "papermill": {
     "duration": 20.288786,
     "end_time": "2023-04-04T16:45:46.013234",
     "exception": false,
     "start_time": "2023-04-04T16:45:25.724448",
     "status": "completed"
    },
    "tags": []
   },
   "outputs": [
    {
     "name": "stderr",
     "output_type": "stream",
     "text": [
      "Ultralytics YOLOv8.0.61 🚀 Python-3.7.12 torch-1.13.0+cpu CPU\n",
      "Setup complete ✅ (4 CPUs, 31.4 GB RAM, 4555.1/8062.4 GB disk)\n"
     ]
    }
   ],
   "source": [
    "# Pip install method (recommended)\n",
    "%pip install ultralytics\n",
    "import ultralytics\n",
    "ultralytics.checks()"
   ]
  },
  {
   "cell_type": "code",
   "execution_count": 2,
   "id": "c99a84c6",
   "metadata": {
    "execution": {
     "iopub.execute_input": "2023-04-04T16:45:46.024896Z",
     "iopub.status.busy": "2023-04-04T16:45:46.023997Z",
     "iopub.status.idle": "2023-04-04T16:45:48.910621Z",
     "shell.execute_reply": "2023-04-04T16:45:48.909377Z"
    },
    "papermill": {
     "duration": 2.895026,
     "end_time": "2023-04-04T16:45:48.913554",
     "exception": false,
     "start_time": "2023-04-04T16:45:46.018528",
     "status": "completed"
    },
    "tags": []
   },
   "outputs": [
    {
     "name": "stdout",
     "output_type": "stream",
     "text": [
      "Cloning into 'ultralytics'...\r\n",
      "remote: Enumerating objects: 7674, done.\u001b[K\r\n",
      "remote: Counting objects: 100% (313/313), done.\u001b[K\r\n",
      "remote: Compressing objects: 100% (223/223), done.\u001b[K\r\n",
      "remote: Total 7674 (delta 190), reused 178 (delta 90), pack-reused 7361\u001b[K\r\n",
      "Receiving objects: 100% (7674/7674), 5.22 MiB | 13.29 MiB/s, done.\r\n",
      "Resolving deltas: 100% (5320/5320), done.\r\n"
     ]
    }
   ],
   "source": [
    "# Git clone method (for development)\n",
    "!git clone https://github.com/ultralytics/ultralytics"
   ]
  },
  {
   "cell_type": "code",
   "execution_count": 3,
   "id": "4862d3af",
   "metadata": {
    "execution": {
     "iopub.execute_input": "2023-04-04T16:45:48.926816Z",
     "iopub.status.busy": "2023-04-04T16:45:48.926363Z",
     "iopub.status.idle": "2023-04-04T16:45:48.931671Z",
     "shell.execute_reply": "2023-04-04T16:45:48.930468Z"
    },
    "papermill": {
     "duration": 0.014651,
     "end_time": "2023-04-04T16:45:48.933904",
     "exception": false,
     "start_time": "2023-04-04T16:45:48.919253",
     "status": "completed"
    },
    "tags": []
   },
   "outputs": [],
   "source": [
    "from ultralytics import YOLO\n",
    "\n",
    "model = YOLO('yolov8x-seg.pt')  # load a pretrained model (recommended for training)\n",
    "path_to_yaml = '/kaggle/input/cbiasyaml/cbis-kaggle.yaml'\n",
    "\n",
    "# Train the model\n",
    "model.train(data=path_to_yaml, \n",
    "            epochs=100,\n",
    "            patience=10,\n",
    "            batch=16,\n",
    "            imgsz=1024,\n",
    "            device = 0\n",
    "            )"
   ]
  },
  {
   "cell_type": "code",
   "execution_count": 4,
   "id": "fdc3401f",
   "metadata": {
    "execution": {
     "iopub.execute_input": "2023-04-04T16:45:48.946719Z",
     "iopub.status.busy": "2023-04-04T16:45:48.945972Z",
     "iopub.status.idle": "2023-04-04T16:45:48.951791Z",
     "shell.execute_reply": "2023-04-04T16:45:48.950574Z"
    },
    "papermill": {
     "duration": 0.014713,
     "end_time": "2023-04-04T16:45:48.954095",
     "exception": false,
     "start_time": "2023-04-04T16:45:48.939382",
     "status": "completed"
    },
    "tags": []
   },
   "outputs": [],
   "source": [
    "# Validate the model\n",
    "metrics = model.val()  # no arguments needed, dataset and settings remembered\n",
    "metrics.box.map    # map50-95(B)\n",
    "metrics.box.map50  # map50(B)\n",
    "metrics.box.map75  # map75(B)\n",
    "metrics.box.maps   # a list contains map50-95(B) of each category\n",
    "metrics.seg.map    # map50-95(M)\n",
    "metrics.seg.map50  # map50(M)\n",
    "metrics.seg.map75  # map75(M)\n",
    "metrics.seg.maps   # a list contains map50-95(M) of each category"
   ]
  }
 ],
 "metadata": {
  "kernelspec": {
   "display_name": "Python 3",
   "language": "python",
   "name": "python3"
  },
  "language_info": {
   "codemirror_mode": {
    "name": "ipython",
    "version": 3
   },
   "file_extension": ".py",
   "mimetype": "text/x-python",
   "name": "python",
   "nbconvert_exporter": "python",
   "pygments_lexer": "ipython3",
   "version": "3.7.12"
  },
  "papermill": {
   "default_parameters": {},
   "duration": 2599.874032,
   "end_time": "2023-04-04T17:28:35.027479",
   "environment_variables": {},
   "exception": null,
   "input_path": "__notebook__.ipynb",
   "output_path": "__notebook__.ipynb",
   "parameters": {},
   "start_time": "2023-04-04T16:45:15.153447",
   "version": "2.4.0"
  }
 },
 "nbformat": 4,
 "nbformat_minor": 5
}
