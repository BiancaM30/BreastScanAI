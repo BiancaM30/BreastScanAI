{
 "cells": [
  {
   "cell_type": "code",
   "execution_count": 1,
   "id": "bae882c1",
   "metadata": {
    "_cell_guid": "b1076dfc-b9ad-4769-8c92-a6c4dae69d19",
    "_uuid": "8f2839f25d086af736a60e9eeb907d3b93b6e0e5",
    "execution": {
     "iopub.execute_input": "2023-03-29T09:20:21.705048Z",
     "iopub.status.busy": "2023-03-29T09:20:21.704568Z",
     "iopub.status.idle": "2023-03-29T09:20:21.714036Z",
     "shell.execute_reply": "2023-03-29T09:20:21.713105Z"
    },
    "papermill": {
     "duration": 0.017522,
     "end_time": "2023-03-29T09:20:21.716416",
     "exception": false,
     "start_time": "2023-03-29T09:20:21.698894",
     "status": "completed"
    },
    "tags": []
   },
   "outputs": [],
   "source": [
    "import os\n",
    "import random\n",
    "import shutil"
   ]
  },
  {
   "cell_type": "code",
   "execution_count": 2,
   "id": "c9a9f39a",
   "metadata": {
    "execution": {
     "iopub.execute_input": "2023-03-29T09:20:21.724287Z",
     "iopub.status.busy": "2023-03-29T09:20:21.723144Z",
     "iopub.status.idle": "2023-03-29T09:20:28.698948Z",
     "shell.execute_reply": "2023-03-29T09:20:28.697246Z"
    },
    "papermill": {
     "duration": 6.98299,
     "end_time": "2023-03-29T09:20:28.702127",
     "exception": false,
     "start_time": "2023-03-29T09:20:21.719137",
     "status": "completed"
    },
    "tags": []
   },
   "outputs": [],
   "source": [
    "# Split in train:test:validation as 80:10:10\n",
    "data_path = '/kaggle/input/cbis-yolo/cbis-ddsm-yolo/images'\n",
    "output_path = '/kaggle/working/'\n",
    "\n",
    "# Find all .jpg files and their corresponding .txt annotation files\n",
    "file_list = []\n",
    "for file in os.listdir(data_path):\n",
    "    if file.endswith(\".jpg\"):\n",
    "        annotation_file = file.replace(\".jpg\", \".txt\")\n",
    "        if os.path.exists(os.path.join(data_path, annotation_file)):\n",
    "            file_list.append(file)\n",
    "\n",
    "# Shuffle the file list\n",
    "random.shuffle(file_list)\n",
    "\n",
    "# Calculate the number of files for each split\n",
    "total_files = len(file_list)\n",
    "train_files = int(total_files * 0.8)\n",
    "test_files = int(total_files * 0.1)\n",
    "val_files = total_files - train_files - test_files\n",
    "\n",
    "# Split the file list\n",
    "train_list = file_list[:train_files]\n",
    "test_list = file_list[train_files:train_files + test_files]\n",
    "val_list = file_list[train_files + test_files:]\n",
    "\n",
    "# Save the file lists to the output directory\n",
    "with open(os.path.join(output_path, 'train.txt'), 'w') as f:\n",
    "    for file in train_list:\n",
    "        f.write(os.path.join(data_path, file) + '\\n')\n",
    "\n",
    "with open(os.path.join(output_path, 'train_labels.txt'), 'w') as f:\n",
    "    for file in train_list:\n",
    "        f.write(os.path.join(data_path, file.replace(\".jpg\", \".txt\")) + '\\n')\n",
    "\n",
    "with open(os.path.join(output_path, 'test.txt'), 'w') as f:\n",
    "    for file in test_list:\n",
    "        f.write(os.path.join(data_path, file) + '\\n')\n",
    "\n",
    "with open(os.path.join(output_path, 'test_labels.txt'), 'w') as f:\n",
    "    for file in test_list:\n",
    "        f.write(os.path.join(data_path, file.replace(\".jpg\", \".txt\")) + '\\n')\n",
    "\n",
    "with open(os.path.join(output_path, 'val.txt'), 'w') as f:\n",
    "    for file in val_list:\n",
    "        f.write(os.path.join(data_path, file) + '\\n')\n",
    "\n",
    "with open(os.path.join(output_path, 'val_labels.txt'), 'w') as f:\n",
    "    for file in val_list:\n",
    "        f.write(os.path.join(data_path, file.replace(\".jpg\", \".txt\")) + '\\n')"
   ]
  },
  {
   "cell_type": "code",
   "execution_count": 3,
   "id": "cc113790",
   "metadata": {
    "execution": {
     "iopub.execute_input": "2023-03-29T09:20:28.710214Z",
     "iopub.status.busy": "2023-03-29T09:20:28.708956Z",
     "iopub.status.idle": "2023-03-29T09:20:28.717784Z",
     "shell.execute_reply": "2023-03-29T09:20:28.715934Z"
    },
    "papermill": {
     "duration": 0.015912,
     "end_time": "2023-03-29T09:20:28.720808",
     "exception": false,
     "start_time": "2023-03-29T09:20:28.704896",
     "status": "completed"
    },
    "tags": []
   },
   "outputs": [
    {
     "name": "stdout",
     "output_type": "stream",
     "text": [
      "2401\n",
      "300\n",
      "301\n"
     ]
    }
   ],
   "source": [
    "print(len(train_list))\n",
    "print(len(test_list))\n",
    "print(len(val_list))"
   ]
  },
  {
   "cell_type": "code",
   "execution_count": 4,
   "id": "7d5f74c1",
   "metadata": {
    "execution": {
     "iopub.execute_input": "2023-03-29T09:20:28.728143Z",
     "iopub.status.busy": "2023-03-29T09:20:28.727667Z",
     "iopub.status.idle": "2023-03-29T09:20:28.735079Z",
     "shell.execute_reply": "2023-03-29T09:20:28.733590Z"
    },
    "papermill": {
     "duration": 0.014062,
     "end_time": "2023-03-29T09:20:28.737654",
     "exception": false,
     "start_time": "2023-03-29T09:20:28.723592",
     "status": "completed"
    },
    "tags": []
   },
   "outputs": [],
   "source": [
    "def copy_files(file_list, src_folder, dst_folder):\n",
    "    with open(file_list, \"r\") as f:\n",
    "        for line in f.readlines():\n",
    "            file_path = line.strip()\n",
    "            file_name = os.path.basename(file_path)\n",
    "            shutil.copy(os.path.join(src_folder, file_name), os.path.join(dst_folder, file_name))"
   ]
  },
  {
   "cell_type": "code",
   "execution_count": 5,
   "id": "99ebf986",
   "metadata": {
    "execution": {
     "iopub.execute_input": "2023-03-29T09:20:28.744872Z",
     "iopub.status.busy": "2023-03-29T09:20:28.744419Z",
     "iopub.status.idle": "2023-03-29T09:22:53.213549Z",
     "shell.execute_reply": "2023-03-29T09:22:53.210472Z"
    },
    "papermill": {
     "duration": 144.483613,
     "end_time": "2023-03-29T09:22:53.223994",
     "exception": false,
     "start_time": "2023-03-29T09:20:28.740381",
     "status": "completed"
    },
    "tags": []
   },
   "outputs": [],
   "source": [
    "path1 = \"/kaggle/input/cbis-yolo/cbis-ddsm-yolo/images\"\n",
    "cbis_base = \"/kaggle/working/\"\n",
    "\n",
    "os.makedirs(os.path.join(cbis_base, \"images/train\"), exist_ok=True)\n",
    "os.makedirs(os.path.join(cbis_base, \"images/test\"), exist_ok=True)\n",
    "os.makedirs(os.path.join(cbis_base, \"images/validation\"), exist_ok=True)\n",
    "os.makedirs(os.path.join(cbis_base, \"labels/train\"), exist_ok=True)\n",
    "os.makedirs(os.path.join(cbis_base, \"labels/test\"), exist_ok=True)\n",
    "os.makedirs(os.path.join(cbis_base, \"labels/validation\"), exist_ok=True)\n",
    "\n",
    "copy_files(\"train.txt\", path1, os.path.join(cbis_base, \"images/train\"))\n",
    "copy_files(\"train_labels.txt\", path1, os.path.join(cbis_base, \"labels/train\"))\n",
    "copy_files(\"test.txt\", path1, os.path.join(cbis_base, \"images/test\"))\n",
    "copy_files(\"test_labels.txt\", path1, os.path.join(cbis_base, \"labels/test\"))\n",
    "copy_files(\"val.txt\", path1, os.path.join(cbis_base, \"images/validation\"))\n",
    "copy_files(\"val_labels.txt\", path1, os.path.join(cbis_base, \"labels/validation\"))\n"
   ]
  }
 ],
 "metadata": {
  "kernelspec": {
   "display_name": "Python 3",
   "language": "python",
   "name": "python3"
  },
  "language_info": {
   "codemirror_mode": {
    "name": "ipython",
    "version": 3
   },
   "file_extension": ".py",
   "mimetype": "text/x-python",
   "name": "python",
   "nbconvert_exporter": "python",
   "pygments_lexer": "ipython3",
   "version": "3.7.12"
  },
  "papermill": {
   "default_parameters": {},
   "duration": 165.197726,
   "end_time": "2023-03-29T09:22:54.351039",
   "environment_variables": {},
   "exception": null,
   "input_path": "__notebook__.ipynb",
   "output_path": "__notebook__.ipynb",
   "parameters": {},
   "start_time": "2023-03-29T09:20:09.153313",
   "version": "2.4.0"
  }
 },
 "nbformat": 4,
 "nbformat_minor": 5
}
