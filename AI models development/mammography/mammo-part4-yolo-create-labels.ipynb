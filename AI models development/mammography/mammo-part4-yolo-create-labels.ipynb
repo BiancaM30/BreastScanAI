{
 "cells": [
  {
   "cell_type": "code",
   "execution_count": 9,
   "id": "4451c781",
   "metadata": {
    "_cell_guid": "b1076dfc-b9ad-4769-8c92-a6c4dae69d19",
    "_uuid": "8f2839f25d086af736a60e9eeb907d3b93b6e0e5",
    "execution": {
     "iopub.execute_input": "2023-03-27T21:21:03.472500Z",
     "iopub.status.busy": "2023-03-27T21:21:03.472087Z",
     "iopub.status.idle": "2023-03-27T21:21:03.618023Z",
     "shell.execute_reply": "2023-03-27T21:21:03.615748Z"
    },
    "papermill": {
     "duration": 0.155117,
     "end_time": "2023-03-27T21:21:03.622488",
     "exception": false,
     "start_time": "2023-03-27T21:21:03.467371",
     "status": "completed"
    },
    "tags": []
   },
   "outputs": [],
   "source": [
    "import os\n",
    "import pandas as pd\n",
    "import shutil\n",
    "import numpy as np\n",
    "from PIL import Image\n",
    "from rasterio import features\n",
    "import cv2"
   ]
  },
  {
   "cell_type": "code",
   "execution_count": 10,
   "metadata": {
    "collapsed": false
   },
   "outputs": [],
   "source": [
    "# Define the paths to your image folders and csv files\n",
    "benign_path = 'C:/Users/munte/Desktop/Licenta/Datasets/cbis-ddsm-preprocessed/benign/'\n",
    "malignant_path = 'C:/Users/munte/Desktop/Licenta/Datasets/cbis-ddsm-preprocessed/malignant/'\n",
    "benign_csv_path = 'C:/Users/munte/Desktop/Licenta/Datasets/cbis-ddsm-preprocessed/data_df_benign.csv'\n",
    "malignant_csv_path = 'C:/Users/munte/Desktop/Licenta/Datasets/cbis-ddsm-preprocessed/data_df_malignant.csv'\n",
    "\n",
    "\n",
    "classes = ['benign', 'malignant']\n",
    "\n",
    "output_folder_path = \"C:/Users/munte/Desktop/Licenta/Datasets/yolo-segmentation/1024/no_pectoral/initial/cbis-yolo-1024-no-pectoral\""
   ]
  },
  {
   "cell_type": "code",
   "execution_count": 11,
   "id": "f24023c6",
   "metadata": {
    "execution": {
     "iopub.execute_input": "2023-03-27T21:21:03.630363Z",
     "iopub.status.busy": "2023-03-27T21:21:03.629525Z",
     "iopub.status.idle": "2023-03-27T21:21:03.639336Z",
     "shell.execute_reply": "2023-03-27T21:21:03.638244Z"
    },
    "papermill": {
     "duration": 0.016555,
     "end_time": "2023-03-27T21:21:03.641925",
     "exception": false,
     "start_time": "2023-03-27T21:21:03.625370",
     "status": "completed"
    },
    "tags": []
   },
   "outputs": [],
   "source": [
    "# Define a set to keep track of which full mammograms have already been processed\n",
    "processed_full_mammograms = set()\n",
    "\n",
    "SIZE = 1024\n",
    "\n",
    "# Find the points that describe the binary mask contour\n",
    "def find_polygon_points(mask_path, class_index, new_size=(SIZE, SIZE)):\n",
    "    # Load the binary mask (ROI) as a grayscale image\n",
    "    mask = cv2.imread(mask_path, cv2.IMREAD_GRAYSCALE)\n",
    "\n",
    "    # Resize the mask\n",
    "    resized_mask = cv2.resize(mask, new_size)\n",
    "\n",
    "    # Find contours in the resized binary mask\n",
    "    contours, _ = cv2.findContours(resized_mask, cv2.RETR_EXTERNAL, cv2.CHAIN_APPROX_SIMPLE)\n",
    "\n",
    "    # Find the largest contour by area\n",
    "    max_contour = max(contours, key=cv2.contourArea)\n",
    "\n",
    "    # Simplify the contour to get the polygon points\n",
    "    epsilon = 0.01 * cv2.arcLength(max_contour, True)\n",
    "    approx_polygon = cv2.approxPolyDP(max_contour, epsilon, True)\n",
    "\n",
    "    # Normalize the points and convert them to a list\n",
    "    normalized_points = []\n",
    "    height, width = new_size\n",
    "    for pt in approx_polygon:\n",
    "        x, y = pt[0]\n",
    "        normalized_points.append(x / width)\n",
    "        normalized_points.append(y / height)\n",
    "\n",
    "    # Combine the class index and polygon points in the desired format\n",
    "    formatted_line = \"{} {}\".format(class_index, \" \".join(map(str, normalized_points)))\n",
    "\n",
    "    return formatted_line\n",
    "\n",
    "\n",
    "def resize_image (image_path, output_path, new_width=SIZE, new_height=SIZE):\n",
    "    img = Image.open(image_path)\n",
    "    resized_img = img.resize((new_width, new_height), Image.ANTIALIAS)\n",
    "    resized_img.save(output_path)\n"
   ]
  },
  {
   "cell_type": "code",
   "execution_count": 12,
   "id": "2a1b3dbb",
   "metadata": {
    "execution": {
     "iopub.execute_input": "2023-03-27T21:21:03.656048Z",
     "iopub.status.busy": "2023-03-27T21:21:03.654743Z",
     "iopub.status.idle": "2023-03-27T21:36:44.422111Z",
     "shell.execute_reply": "2023-03-27T21:36:44.419049Z"
    },
    "papermill": {
     "duration": 940.78336,
     "end_time": "2023-03-27T21:36:44.428143",
     "exception": false,
     "start_time": "2023-03-27T21:21:03.644783",
     "status": "completed"
    },
    "tags": []
   },
   "outputs": [
    {
     "name": "stderr",
     "output_type": "stream",
     "text": [
      "C:\\Users\\munte\\AppData\\Local\\Temp\\ipykernel_18996\\2096393391.py:70: DeprecationWarning: ANTIALIAS is deprecated and will be removed in Pillow 10 (2023-07-01). Use Resampling.LANCZOS instead.\n",
      "  resized_img = img.resize((new_width, new_height), Image.ANTIALIAS)\n",
      "C:\\Users\\munte\\AppData\\Local\\Temp\\ipykernel_18996\\2096393391.py:70: DeprecationWarning: ANTIALIAS is deprecated and will be removed in Pillow 10 (2023-07-01). Use Resampling.LANCZOS instead.\n",
      "  resized_img = img.resize((new_width, new_height), Image.ANTIALIAS)\n"
     ]
    }
   ],
   "source": [
    "# Save the adnotation file instead of mask for each file \n",
    "for csv_path, image_folder, class_name in [(benign_csv_path, benign_path, 'benign'), (malignant_csv_path, malignant_path, 'malignant')]:\n",
    "    csv_data = pd.read_csv(csv_path)\n",
    "    for index, row in csv_data.iterrows():\n",
    "        # Get the image path and mask paths\n",
    "        patient_id = row['patient_id']\n",
    "        lr = row['left or right breast']\n",
    "        view = row['image view']\n",
    "        mask_filename = f\"{class_name} ({index})_mask.jpg\"\n",
    "\n",
    "        image_name = f\"{class_name} ({index})_preprocessed.png\"\n",
    "        full_mammogram_name = f\"{patient_id} {lr} {view}\"\n",
    "        if full_mammogram_name in processed_full_mammograms:\n",
    "            continue\n",
    "        processed_full_mammograms.add(full_mammogram_name)\n",
    "        image_path = os.path.join(image_folder, image_name)\n",
    "        mask_paths = []\n",
    "        masks = csv_data[(csv_data['patient_id'] == patient_id) & (csv_data['left or right breast'] == lr) & (csv_data['image view'] == view)]\n",
    "        for mask_index, mask_row in masks.iterrows():\n",
    "            mask_path = os.path.join(image_folder, f\"{class_name} ({mask_index})_mask.jpg\")\n",
    "            mask_paths.append(mask_path)\n",
    "        \n",
    "        image_filename = os.path.splitext(image_name)[0]\n",
    "        output_filename = os.path.join(output_folder_path, f\"{image_filename}.txt\")\n",
    "        with open(output_filename, 'a') as output_file:\n",
    "            for mask_path in mask_paths:\n",
    "                class_id = classes.index(class_name)\n",
    "                annotation = find_polygon_points(mask_path, class_id)\n",
    "                output_file.write(annotation + '\\n')\n",
    "\n",
    "        # Copy the image file to the output folder\n",
    "        shutil.copy(image_path, os.path.join(output_folder_path, f\"{image_filename}.jpg\"))\n",
    "        resize_image(image_path, os.path.join(output_folder_path, f\"{image_filename}.jpg\"))\n"
   ]
  },
  {
   "cell_type": "code",
   "execution_count": 12,
   "metadata": {
    "collapsed": false
   },
   "outputs": [],
   "source": []
  }
 ],
 "metadata": {
  "kernelspec": {
   "display_name": "Python 3",
   "language": "python",
   "name": "python3"
  },
  "language_info": {
   "codemirror_mode": {
    "name": "ipython",
    "version": 3
   },
   "file_extension": ".py",
   "mimetype": "text/x-python",
   "name": "python",
   "nbconvert_exporter": "python",
   "pygments_lexer": "ipython3",
   "version": "3.7.12"
  },
  "papermill": {
   "default_parameters": {},
   "duration": 952.657321,
   "end_time": "2023-03-27T21:36:45.264923",
   "environment_variables": {},
   "exception": null,
   "input_path": "__notebook__.ipynb",
   "output_path": "__notebook__.ipynb",
   "parameters": {},
   "start_time": "2023-03-27T21:20:52.607602",
   "version": "2.4.0"
  }
 },
 "nbformat": 4,
 "nbformat_minor": 5
}
